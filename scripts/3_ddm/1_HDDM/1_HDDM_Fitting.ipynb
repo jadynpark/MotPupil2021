{
 "cells": [
  {
   "cell_type": "code",
   "execution_count": null,
   "metadata": {},
   "outputs": [],
   "source": [
    "import pandas as pd\n",
    "import matplotlib.pyplot as plt\n",
    "import hddm\n",
    "import numpy as np\n",
    "import patsy \n",
    "\n",
    "samples = 30000\n",
    "\n",
    "data = hddm.load_csv('../../../data/1_behav/DataAll.csv')"
   ]
  },
  {
   "cell_type": "code",
   "execution_count": null,
   "metadata": {},
   "outputs": [],
   "source": [
    "def z_link_func(x, data=data):\n",
    "    return 1 / (1 + np.exp(-(x)))"
   ]
  },
  {
   "cell_type": "code",
   "execution_count": null,
   "metadata": {},
   "outputs": [],
   "source": [
    "# Patch to run PPC\n",
    "import pymc as pm\n",
    "import pymc.progressbar as pbar\n",
    "\n",
    "def _parents_to_random_posterior_sample(bottom_node, pos=None):\n",
    "    \"\"\"Walks through parents and sets them to pos sample.\"\"\"\n",
    "    for i, parent in enumerate(bottom_node.extended_parents):\n",
    "        if not isinstance(parent, pm.Node): # Skip non-stochastic nodes\n",
    "            continue\n",
    "\n",
    "        if pos is None:\n",
    "            # Set to random posterior position\n",
    "            pos = np.random.randint(0, len(parent.trace()))\n",
    "\n",
    "        assert len(parent.trace()) >= pos, \"pos larger than posterior sample size\"\n",
    "        parent.value = parent.trace()[pos]\n",
    "\n",
    "def _post_pred_generate(bottom_node, samples=500, data=None, append_data=True):\n",
    "    \"\"\"Generate posterior predictive data from a single observed node.\"\"\"\n",
    "    datasets = []\n",
    "    ##############################\n",
    "    # Sample and generate stats\n",
    "    for sample in range(samples):\n",
    "        _parents_to_random_posterior_sample(bottom_node)\n",
    "        # Generate data from bottom node\n",
    "        sampled_data = bottom_node.random()\n",
    "        if append_data and data is not None:\n",
    "            sampled_data.reset_index(inplace=True)  # Only modification of original Kabuki code\n",
    "            sampled_data = sampled_data.join(data.reset_index(), lsuffix='_sampled')\n",
    "        datasets.append(sampled_data)\n",
    "    return datasets\n",
    "\n",
    "def post_pred_gen(model, groupby=None, samples=500, append_data=False, progress_bar=True):\n",
    "    results = {}\n",
    "\n",
    "    # Progress bar\n",
    "    if progress_bar:\n",
    "        n_iter = len(model.get_observeds())\n",
    "        bar = pbar.progress_bar(n_iter)\n",
    "        bar_iter = 0\n",
    "    else:\n",
    "        print(\"Sampling...\")\n",
    "\n",
    "    if groupby is None:\n",
    "        iter_data = ((name, model.data.ix[obs['node'].value.index]) for name, obs in model.iter_observeds())\n",
    "    else:\n",
    "        iter_data = model.data.groupby(groupby)\n",
    "\n",
    "    for name, data in iter_data:\n",
    "        node = model.get_data_nodes(data.index)\n",
    "\n",
    "        if progress_bar:\n",
    "            bar_iter += 1\n",
    "            bar.update(bar_iter)\n",
    "\n",
    "        if node is None or not hasattr(node, 'random'):\n",
    "            continue # Skip\n",
    "\n",
    "        ##############################\n",
    "        # Sample and generate stats\n",
    "        datasets = _post_pred_generate(node, samples=samples, data=data, append_data=append_data)\n",
    "        results[name] = pd.concat(datasets, names=['sample'], keys=list(range(len(datasets))))\n",
    "\n",
    "    if progress_bar:\n",
    "        bar_iter += 1\n",
    "        bar.update(bar_iter)\n",
    "\n",
    "    return pd.concat(results, names=['node'])"
   ]
  },
  {
   "cell_type": "markdown",
   "metadata": {},
   "source": [
    "## z & v model"
   ]
  },
  {
   "cell_type": "code",
   "execution_count": null,
   "metadata": {},
   "outputs": [],
   "source": [
    "v_reg = {'model': 'v ~ 1 + stim + condition', 'link_func': lambda x: x}\n",
    "z_reg = {'model': 'z ~ 1 + condition', 'link_func': z_link_func}\n",
    "\n",
    "reg_descr = [v_reg, z_reg]\n",
    "\n",
    "zv_model = hddm.models.HDDMRegressor(data, reg_descr,\n",
    "                                       bias=True, p_outlier=0.05,\n",
    "                                       group_only_regressors=False)\n",
    "\n",
    "zv_model.sample(samples, burn=samples/10, thin=2)"
   ]
  },
  {
   "cell_type": "code",
   "execution_count": null,
   "metadata": {},
   "outputs": [],
   "source": [
    "zv_model.dic_info['deviance'] + zv_model.dic_info['pD'] + zv_model.dic_info['pD']"
   ]
  },
  {
   "cell_type": "code",
   "execution_count": null,
   "metadata": {},
   "outputs": [],
   "source": [
    "stats = zv_model.gen_stats()\n",
    "stats.to_csv('../../../data/3_ddm/modeloutputs/subject_parms/zv_model.csv')"
   ]
  },
  {
   "cell_type": "code",
   "execution_count": null,
   "metadata": {},
   "outputs": [],
   "source": [
    "vc, zc = zv_model.nodes_db.node[['v_condition', 'z_condition']]\n",
    "allParms = vc.trace()\n",
    "allParms = np.column_stack([allParms,zc.trace()])\n",
    "\n",
    "np.savetxt(\"../../../data/3_ddm/modeloutputs/trace_processed/zv_model.csv\", allParms , delimiter=\",\")"
   ]
  },
  {
   "cell_type": "code",
   "execution_count": null,
   "metadata": {},
   "outputs": [],
   "source": [
    "a, t = zv_model.nodes_db.node[['a', 't']]\n",
    "\n",
    "z_m,z_0 = zv_model.nodes_db.node[['z_condition', 'z_Intercept']] \n",
    "\n",
    "v_m,v_s,v_0 = zv_model.nodes_db.node[['v_condition', 'v_stim', 'v_Intercept']] \n",
    "\n",
    "allParms = a.trace()\n",
    "allParms = np.column_stack([allParms,t.trace()])\n",
    "allParms = np.column_stack([allParms,z_m.trace(),z_0.trace()])\n",
    "allParms = np.column_stack([allParms,v_m.trace(),v_s.trace(),v_0.trace()])\n",
    "\n",
    "np.savetxt(\"../../../data/3_ddm/modeloutputs/trace_processed/zv_model_trace_all.csv\", allParms , delimiter=\",\")"
   ]
  },
  {
   "cell_type": "code",
   "execution_count": null,
   "metadata": {},
   "outputs": [],
   "source": [
    "ppc_data = post_pred_gen(zv_model,samples=100,append_data=True)\n",
    "np.savetxt(\"../../../data/3_ddm/modeloutputs/ppc/zv_model_ppc.csv\", ppc_data, delimiter=\",\")"
   ]
  },
  {
   "cell_type": "markdown",
   "metadata": {},
   "source": [
    "## z model"
   ]
  },
  {
   "cell_type": "code",
   "execution_count": null,
   "metadata": {},
   "outputs": [],
   "source": [
    "v_reg = {'model': 'v ~ 1 + stim', 'link_func': lambda x: x}\n",
    "z_reg = {'model': 'z ~ 1 + condition', 'link_func': z_link_func}\n",
    "\n",
    "reg_descr = [v_reg, z_reg]\n",
    "\n",
    "z_model = hddm.models.HDDMRegressor(data, reg_descr,\n",
    "                                       bias=True, p_outlier=0.05,\n",
    "                                       group_only_regressors=False)\n",
    "\n",
    "z_model.sa\n",
    "v model\n",
    "mple(samples, burn=samples/10, thin=2)\n",
    "\n",
    "z_model.dic_info['deviance'] + z_model.dic_info['pD'] + z_model.dic_info['pD']"
   ]
  },
  {
   "cell_type": "markdown",
   "metadata": {},
   "source": [
    "## v model"
   ]
  },
  {
   "cell_type": "code",
   "execution_count": null,
   "metadata": {},
   "outputs": [],
   "source": [
    "v_reg = {'model': 'v ~ 1 + stim + condition', 'link_func': lambda x: x}\n",
    "z_reg = {'model': 'z ~ 1', 'link_func': z_link_func}\n",
    "\n",
    "reg_descr = [v_reg, z_reg]\n",
    "\n",
    "v_model = hddm.models.HDDMRegressor(data, reg_descr,\n",
    "                                       bias=True, p_outlier=0.05,\n",
    "                                       group_only_regressors=False)\n",
    "\n",
    "v_model.sample(samples, burn=samples/10, thin=2)\n",
    "\n",
    "v_model.dic_info['deviance'] + v_model.dic_info['pD'] + v_model.dic_info['pD']"
   ]
  },
  {
   "cell_type": "markdown",
   "metadata": {},
   "source": [
    "## null model"
   ]
  },
  {
   "cell_type": "code",
   "execution_count": null,
   "metadata": {},
   "outputs": [],
   "source": [
    "v_reg = {'model': 'v ~ 1 + stim', 'link_func': lambda x: x}\n",
    "z_reg = {'model': 'z ~ 1', 'link_func': z_link_func}\n",
    "\n",
    "reg_descr = [v_reg, z_reg]\n",
    "\n",
    "null_model = hddm.models.HDDMRegressor(data, reg_descr,\n",
    "                                       bias=True, p_outlier=0.05,\n",
    "                                       group_only_regressors=False)\n",
    "\n",
    "null_model.sample(samples, burn=samples/10, thin=2)\n",
    "\n",
    "null_model.dic_info['deviance'] + null_model.dic_info['pD'] + null_model.dic_info['pD']"
   ]
  }
 ],
 "metadata": {
  "kernelspec": {
   "display_name": "Python 2",
   "language": "python",
   "name": "python2"
  },
  "language_info": {
   "codemirror_mode": {
    "name": "ipython",
    "version": 2
   },
   "file_extension": ".py",
   "mimetype": "text/x-python",
   "name": "python",
   "nbconvert_exporter": "python",
   "pygments_lexer": "ipython2",
   "version": "2.7.16"
  }
 },
 "nbformat": 4,
 "nbformat_minor": 2
}
